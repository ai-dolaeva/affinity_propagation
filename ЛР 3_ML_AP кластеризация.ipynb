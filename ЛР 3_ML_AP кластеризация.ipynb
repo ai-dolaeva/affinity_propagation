{
 "cells": [
  {
   "cell_type": "code",
   "execution_count": 98,
   "metadata": {},
   "outputs": [],
   "source": [
    "import numpy as np\n",
    "import matplotlib.pyplot as plt\n",
    "from random import shuffle"
   ]
  },
  {
   "cell_type": "code",
   "execution_count": 99,
   "metadata": {},
   "outputs": [],
   "source": [
    "numberNodes = 196591\n",
    "numberEdges = 950327\n",
    "\n",
    "with open('Gowalla_edges.txt', 'r') as f:\n",
    "    strings = f.readlines()\n",
    "edges = []\n",
    "nodes = set()\n",
    "similarity = []\n",
    "\n",
    "for line in strings:\n",
    "    node1, node2 = line.split()\n",
    "    edges.append((int(node1), int(node2))) #список всех связей\n",
    "    nodes.add((int(node1)))\n",
    "    similarity.append(1) #cхожесть связей одинакова = 1\n",
    "    \n",
    "strings = None\n",
    "    \n",
    "for node in nodes:\n",
    "    edges.append((node, node))  #диагональная связь "
   ]
  },
  {
   "cell_type": "code",
   "execution_count": 106,
   "metadata": {},
   "outputs": [],
   "source": [
    "def affinity_propagation(S, edges, iteration, diag_similarity):\n",
    "   \n",
    "    # формирование массива самоподобия и добавление шума\n",
    "    S = np.array(S, dtype=np.int8)\n",
    "    diag_similarity = np.repeat(diag_similarity, numberNodes)\n",
    "    similarity = np.append(S, diag_similarity) \n",
    "    similarity = similarity + 1*(10**(-12))* np.random.sample(similarity.shape[0]) *(similarity.max() -similarity.min())\n",
    "    \n",
    "    # формирование массивов ответственности и доступности\n",
    "    responsibility = np.repeat(0, similarity.shape[0])\n",
    "    availability = np.repeat(0, similarity.shape[0])\n",
    "    \n",
    "    #кластеризация\n",
    "    for i in range(iteration):\n",
    "        responsibility = getResponsibility(similarity, availability, edges, responsibility)\n",
    "        availability = getAvailability(availability, responsibility, edges)            \n",
    "        print(i)\n",
    "        \n",
    "    # экземпляры класстера каждого пользователя\n",
    "    result = getExemplars(availability, responsibility, edges)\n",
    "    \n",
    "    return result"
   ]
  },
  {
   "cell_type": "code",
   "execution_count": 107,
   "metadata": {},
   "outputs": [],
   "source": [
    "def getResponsibility(S, A, edges, R):\n",
    "\n",
    "    lam = 0.5\n",
    "    Y = np.repeat(-np.inf, numberNodes)\n",
    "    Y2 = np.repeat(-np.inf, numberNodes)\n",
    "    I = np.repeat(np.inf, numberNodes)\n",
    "\n",
    "    Rold = R.copy()\n",
    "    S_A = S + A\n",
    "\n",
    "    for ind, (node1, node2) in enumerate(edges):\n",
    "        if Y[node1] < S_A[ind]:\n",
    "            Y2[node1] = Y[node1]\n",
    "            Y[node1] = S_A[ind]\n",
    "            I[node1] = node2\n",
    "        elif Y2[node1] < S_A[ind]:\n",
    "            Y2[node1] = S_A[ind]\n",
    "\n",
    "    R = S.copy()\n",
    "\n",
    "    for ind, (node1, node2) in enumerate(edges):\n",
    "        if I[node1] == node2:\n",
    "            R[ind] -= Y2[node1]\n",
    "        else:\n",
    "            R[ind] -= Y[node1]\n",
    "\n",
    "    R=(1-lam)*R+lam*Rold   # экпоненциальное сглаживание\n",
    "\n",
    "    return R        "
   ]
  },
  {
   "cell_type": "code",
   "execution_count": 108,
   "metadata": {},
   "outputs": [],
   "source": [
    "def getAvailability(A, R, edges):\n",
    "    \n",
    "    lam = 0.5\n",
    "    Rold = R.copy()\n",
    "    Aold = A.copy()\n",
    "    i = 0\n",
    "    \n",
    "    while i < numberEdges * 2:\n",
    "        if Rold[i] < 0:\n",
    "            Rold[i] = 0\n",
    "        i += 1\n",
    "\n",
    "    Rp = np.repeat(0, numberNodes)\n",
    "    \n",
    "    for ind, (node1, node2) in enumerate(edges):\n",
    "        Rp[node2] += Rold[ind]\n",
    "\n",
    "    for ind, (node1, node2) in enumerate(edges):\n",
    "        A[ind] = Rp[node2] - Rold[ind]\n",
    "    \n",
    "    i = 0\n",
    "    while i < numberEdges * 2:\n",
    "        A[i] = np.min([0, A[i]])\n",
    "        i += 1\n",
    "    \n",
    "    A=(1-lam)*A+lam*Aold   #  экпоненциальным сглаживанием.\n",
    "    \n",
    "    return A"
   ]
  },
  {
   "cell_type": "code",
   "execution_count": 109,
   "metadata": {},
   "outputs": [],
   "source": [
    "def getExemplars(A, R, edges):\n",
    "    \n",
    "    temp = np.repeat(-np.inf, numberNodes)\n",
    "    exemplars = dict()\n",
    "    \n",
    "    E = A + R\n",
    "    \n",
    "    for ind, (node1, node2) in enumerate(edges):\n",
    "        if E[ind] > temp[node1]:\n",
    "            temp[node1] = E[ind]\n",
    "            exemplars[node1] = node2\n",
    "            \n",
    "    for key in exemplars.keys():\n",
    "        value = exemplars[key]\n",
    "        if exemplars[value] != value:\n",
    "            value2 = exemplars[value]\n",
    "            exemplars[key] = value2\n",
    "    \n",
    "    return exemplars "
   ]
  },
  {
   "cell_type": "code",
   "execution_count": 110,
   "metadata": {},
   "outputs": [
    {
     "name": "stdout",
     "output_type": "stream",
     "text": [
      "0\n",
      "1\n",
      "2\n",
      "3\n",
      "4\n",
      "5\n",
      "6\n",
      "7\n",
      "8\n",
      "9\n"
     ]
    }
   ],
   "source": [
    "#def affinity_propagation(S, edges, iteration, diag_similarity):\n",
    "\n",
    "#кластеризация\n",
    "\n",
    "exemplars = affinity_propagation(similarity, edges, 10, -1)"
   ]
  },
  {
   "cell_type": "code",
   "execution_count": 111,
   "metadata": {},
   "outputs": [
    {
     "data": {
      "image/png": "[encoded data removed]",
      "text/plain": [
       "<Figure size 432x288 with 1 Axes>"
      ]
     },
     "metadata": {
      "needs_background": "light"
     },
     "output_type": "display_data"
    }
   ],
   "source": [
    "NumberClusters = set()\n",
    "clusters = dict()\n",
    "\n",
    "for exemplar in exemplars.values():\n",
    "    if exemplar not in clusters:\n",
    "        clusters[exemplar] = 1\n",
    "    else:\n",
    "        clusters[exemplar] += 1\n",
    "    NumberClusters.add(i)\n",
    "    \n",
    "print(len(NumberClusters)) #количество кластеров        \n",
    "plt.hist(clusters.values(), bins=100, range=(0, 100))\n",
    "plt.show() # размеры кластеров"
   ]
  },
  {
   "cell_type": "code",
   "execution_count": 150,
   "metadata": {},
   "outputs": [],
   "source": [
    "with open('Gowalla_totalCheckins.txt', 'r') as f:\n",
    "    strings = f.readlines()\n",
    "\n",
    "checkins = []\n",
    "for string in strings:\n",
    "    user = int(string.split()[0])\n",
    "    location = int(string.split()[-1])\n",
    "    checkins.append((user, location))\n",
    "    \n",
    "strings = None\n",
    "\n",
    "shuffle(checkins) #смешивание"
   ]
  },
  {
   "cell_type": "code",
   "execution_count": 152,
   "metadata": {},
   "outputs": [
    {
     "data": {
      "text/plain": [
       "107092"
      ]
     },
     "execution_count": 152,
     "metadata": {},
     "output_type": "execute_result"
    }
   ],
   "source": [
    "UniqueCheckSet = set()\n",
    "for checkin in checkins:\n",
    "    UniqueCheckSet.add(checkin[0])\n",
    "\n",
    "numberUniqueCheck = len(UniqueCheckSet) #количество пользователей, оставлявших чекины\n",
    "numberUniqueCheck"
   ]
  },
  {
   "cell_type": "code",
   "execution_count": 153,
   "metadata": {},
   "outputs": [],
   "source": [
    "# формирование тестовые (1/5) и тренеровочные данные\n",
    "testData = set()\n",
    "trainData = set()\n",
    "for checkin in checkins:\n",
    "    user = checkin[0]\n",
    "    if len(testData) <= numberUniqueCheck/5:\n",
    "        testData.add(user)\n",
    "    elif user not in testData:\n",
    "        trainData.add(user)"
   ]
  },
  {
   "cell_type": "code",
   "execution_count": 154,
   "metadata": {},
   "outputs": [],
   "source": [
    "#количество чекинов по локации для каждого кластера\n",
    "locationsInClusters = dict()\n",
    "for (user, location) in checkins:\n",
    "    if user in trainData:\n",
    "        exemplar = exemplars[user]\n",
    "        \n",
    "        if exemplar not in locationsInClusters.keys():\n",
    "            locationsInClusters[exemplar] = dict()\n",
    "            \n",
    "        else:\n",
    "            if location not in locationsInClusters[exemplar].keys():\n",
    "                locationsInClusters[exemplar][location] = 1\n",
    "            else:\n",
    "                locationsInClusters[exemplar][location] += 1\n",
    "# топ 10          \n",
    "topLocations = dict()\n",
    "for exemplar in locationsInClusters:\n",
    "    locationsInClusters[exemplar] = sorted(locationsInClusters[exemplar].items(), key=lambda item: item[1], reverse=True) \n",
    "for exemplar in locationsInClusters:\n",
    "    topLocations[exemplar] = [location[0] for location in locationsInClusters[exemplar][:10]]"
   ]
  },
  {
   "cell_type": "code",
   "execution_count": 156,
   "metadata": {},
   "outputs": [
    {
     "data": {
      "text/plain": [
       "35.233204164526825"
      ]
     },
     "execution_count": 156,
     "metadata": {},
     "output_type": "execute_result"
    }
   ],
   "source": [
    "# процент угаданных пользователей \n",
    "quantity = 0\n",
    "for (user, location) in checkins:\n",
    "    if user in testData:\n",
    "        exemplar = exemplars[user]\n",
    "        if exemplar in topLocations and location in topLocations[exemplar]:\n",
    "            quantity += 1\n",
    "            \n",
    "percent = quantity / len(testData) *10\n",
    "percent"
   ]
  },
  {
   "cell_type": "code",
   "execution_count": null,
   "metadata": {},
   "outputs": [],
   "source": []
  }
 ],
 "metadata": {
  "kernelspec": {
   "display_name": "Python 3",
   "language": "python",
   "name": "python3"
  },
  "language_info": {
   "codemirror_mode": {
    "name": "ipython",
    "version": 3
   },
   "file_extension": ".py",
   "mimetype": "text/x-python",
   "name": "python",
   "nbconvert_exporter": "python",
   "pygments_lexer": "ipython3",
   "version": "3.8.3"
  }
 },
 "nbformat": 4,
 "nbformat_minor": 2
}
